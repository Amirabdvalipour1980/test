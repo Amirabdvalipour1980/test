{
 "cells": [
  {
   "cell_type": "markdown",
   "id": "4ebcdc01-67c1-437e-b102-8d8264865c64",
   "metadata": {
    "jp-MarkdownHeadingCollapsed": true
   },
   "source": [
    "- سه تا خط اول برای ایمپورت پایه ها است\n",
    "- خط بعدی برای برای دسترسیه اون دیتا ست هست \n",
    "- خط بعد برای بچه های داخل کشتی است \n",
    "- خط بعدی برای سن کمتر از 50 سال است و پرینت شدن سن و نام است \n",
    "- خط بعدی برای پرینت شدن تعداد پچه ها است و سن است"
   ]
  },
  {
   "cell_type": "code",
   "execution_count": null,
   "id": "041bc786",
   "metadata": {},
   "outputs": [],
   "source": [
    "import pandas as pd\n",
    "import numpy as np\n",
    "import matplotlib.pyplot as plt\n",
    "\n",
    "df = pd.read_csv('titanic.csv')\n",
    "print('kids:')\n",
    "print(df[df['Age'] > 50][['Name', 'Age']])\n",
    "print('tedad: ', df[df['Age'] > 50].count())"
   ]
  },
  {
   "cell_type": "markdown",
   "id": "cffa4573",
   "metadata": {},
   "source": [
    "- سه تا خط اول برای ایمپورت پایه ها است\n",
    "- خط بعدی برای دسترسی به دیتا ست آیریس است\n",
    "- خط بعدی برای میانگین طول گل برگ های ستوسا است\n",
    "- خط بعدی برای میانگین طول گل برگ های ورسیکالر است\n",
    "- خط بعدی برای میانگین گل برگ های وجینیکا است"
   ]
  },
  {
   "cell_type": "code",
   "execution_count": null,
   "id": "87de630f",
   "metadata": {},
   "outputs": [],
   "source": [
    "import pandas as pd\n",
    "import numpy as np\n",
    "import matplotlib.pyplot as plt\n",
    "\n",
    "df = pd.read_csv('iris.csv')\n",
    "print(df[df['variety'] == \"Setosa\"][['petal.length']].mean())\n",
    "print(df[df['variety'] == \"Versicolor\"][['petal.length']].mean())\n",
    "print(df[df['variety'] == \"Virginica\"][['petal.length']].mean())"
   ]
  },
  {
   "cell_type": "markdown",
   "id": "70bd363c",
   "metadata": {},
   "source": [
    "- سه تا خط اول برای ایمپورت پایه ها است\n",
    "- خط بعدی برای دسترسی به دیتا ست دیابت است\n",
    "- بعدی برای بی ام آی کمتر از 0.05است"
   ]
  },
  {
   "cell_type": "code",
   "execution_count": null,
   "id": "ce403c05",
   "metadata": {},
   "outputs": [],
   "source": [
    "import pandas as pd\n",
    "import numpy as np\n",
    "import matplotlib.pyplot as plt\n",
    "\n",
    "df = pd.read_csv('diabetes.csv')\n",
    "print(df[df['BMI'] > 0.05].count())"
   ]
  }
 ],
 "metadata": {
  "kernelspec": {
   "display_name": "Python 3 (ipykernel)",
   "language": "python",
   "name": "python3"
  },
  "language_info": {
   "codemirror_mode": {
    "name": "ipython",
    "version": 3
   },
   "file_extension": ".py",
   "mimetype": "text/x-python",
   "name": "python",
   "nbconvert_exporter": "python",
   "pygments_lexer": "ipython3",
   "version": "3.12.0"
  }
 },
 "nbformat": 4,
 "nbformat_minor": 5
}
